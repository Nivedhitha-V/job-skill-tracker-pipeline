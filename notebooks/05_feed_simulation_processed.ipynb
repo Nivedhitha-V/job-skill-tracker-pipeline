{
  "nbformat": 4,
  "nbformat_minor": 0,
  "metadata": {
    "colab": {
      "provenance": []
    },
    "kernelspec": {
      "name": "python3",
      "display_name": "Python 3"
    },
    "language_info": {
      "name": "python"
    }
  },
  "cells": [
    {
      "cell_type": "code",
      "source": [
        "import os\n",
        "\n",
        "folders = [\n",
        "    'data/feed_simulated',\n",
        "    'data/processed',\n",
        "    'logs'\n",
        "]\n",
        "\n",
        "for folder in folders:\n",
        "    os.makedirs(folder, exist_ok=True)\n",
        "\n",
        "print(\"✅ Folder structure ready.\")\n"
      ],
      "metadata": {
        "colab": {
          "base_uri": "https://localhost:8080/"
        },
        "id": "s_f8mCLr9cUy",
        "outputId": "8eadbc24-7fc4-46c8-dd5c-2804d8f69e18"
      },
      "execution_count": 6,
      "outputs": [
        {
          "output_type": "stream",
          "name": "stdout",
          "text": [
            "✅ Folder structure ready.\n"
          ]
        }
      ]
    },
    {
      "cell_type": "code",
      "execution_count": 7,
      "metadata": {
        "colab": {
          "base_uri": "https://localhost:8080/"
        },
        "id": "5gVnTrEm8bft",
        "outputId": "b2c8ee13-4faf-4aa9-c93d-0dffa2d2248a"
      },
      "outputs": [
        {
          "output_type": "stream",
          "name": "stdout",
          "text": [
            "📦 Splitting 'full_jobs.csv' into 10 feed files...\n",
            "✅ Done: Created day1.csv to day10.csv in data/feed_simulated/\n",
            "📥 Processing: day1.csv\n",
            "✅ Saved: data/processed/skills_day1.csv\n",
            "📝 Logged: day1.csv\n",
            "📥 Processing: day10.csv\n",
            "✅ Saved: data/processed/skills_day10.csv\n",
            "📝 Logged: day10.csv\n",
            "📥 Processing: day2.csv\n",
            "✅ Saved: data/processed/skills_day2.csv\n",
            "📝 Logged: day2.csv\n",
            "📥 Processing: day3.csv\n",
            "✅ Saved: data/processed/skills_day3.csv\n",
            "📝 Logged: day3.csv\n",
            "📥 Processing: day4.csv\n",
            "✅ Saved: data/processed/skills_day4.csv\n",
            "📝 Logged: day4.csv\n",
            "📥 Processing: day5.csv\n",
            "✅ Saved: data/processed/skills_day5.csv\n",
            "📝 Logged: day5.csv\n",
            "📥 Processing: day6.csv\n",
            "✅ Saved: data/processed/skills_day6.csv\n",
            "📝 Logged: day6.csv\n",
            "📥 Processing: day7.csv\n",
            "✅ Saved: data/processed/skills_day7.csv\n",
            "📝 Logged: day7.csv\n",
            "📥 Processing: day8.csv\n",
            "✅ Saved: data/processed/skills_day8.csv\n",
            "📝 Logged: day8.csv\n",
            "📥 Processing: day9.csv\n",
            "✅ Saved: data/processed/skills_day9.csv\n",
            "📝 Logged: day9.csv\n"
          ]
        }
      ],
      "source": [
        "import os\n",
        "import pandas as pd\n",
        "from datetime import datetime, timedelta\n",
        "\n",
        "# -------------------------\n",
        "# CONFIGURATION\n",
        "# -------------------------\n",
        "FULL_DATASET = '/content/postings_cleaned.csv'  # <-- Your full uploaded file\n",
        "FEED_FOLDER = 'data/feed_simulated'\n",
        "OUTPUT_FOLDER = 'data/processed'\n",
        "LOG_FILE = 'logs/ingestion.log'\n",
        "SKILLS_COLUMN = 'job_skills_cleaned'  # Adjust if needed\n",
        "START_DATE = datetime(2025, 7, 1)  # Simulated start date for day1\n",
        "\n",
        "# -------------------------\n",
        "# SETUP FOLDERS\n",
        "# -------------------------\n",
        "for folder in [FEED_FOLDER, OUTPUT_FOLDER, 'logs']:\n",
        "    os.makedirs(folder, exist_ok=True)\n",
        "\n",
        "# -------------------------\n",
        "# SPLIT FULL DATA INTO 10 FILES\n",
        "# -------------------------\n",
        "if not os.path.exists(os.path.join(FEED_FOLDER, 'day1.csv')):\n",
        "    print(\"📦 Splitting 'full_jobs.csv' into 10 feed files...\")\n",
        "    try:\n",
        "        df_full = pd.read_csv(FULL_DATASET)\n",
        "        chunk_size = len(df_full) // 10\n",
        "        for i in range(10):\n",
        "            start = i * chunk_size\n",
        "            end = (i + 1) * chunk_size if i < 9 else len(df_full)\n",
        "            chunk = df_full.iloc[start:end]\n",
        "            chunk.to_csv(os.path.join(FEED_FOLDER, f'day{i+1}.csv'), index=False)\n",
        "        print(\"✅ Done: Created day1.csv to day10.csv in data/feed_simulated/\")\n",
        "    except Exception as e:\n",
        "        print(f\"❌ Error reading '{FULL_DATASET}': {e}\")\n",
        "        exit()\n",
        "\n",
        "# -------------------------\n",
        "# FUNCTIONS\n",
        "# -------------------------\n",
        "\n",
        "def get_next_file():\n",
        "    processed = set()\n",
        "    if os.path.exists(LOG_FILE):\n",
        "        with open(LOG_FILE, 'r') as f:\n",
        "            processed = set(line.strip() for line in f)\n",
        "    all_files = sorted(f for f in os.listdir(FEED_FOLDER) if f.endswith('.csv'))\n",
        "    for file in all_files:\n",
        "        if file not in processed:\n",
        "            return file\n",
        "    return None\n",
        "\n",
        "def extract_top_skills(df):\n",
        "    all_skills = df[SKILLS_COLUMN].dropna().str.split(',').explode().str.strip().str.lower()\n",
        "    top_skills = all_skills.value_counts().head(20).reset_index()\n",
        "    top_skills.columns = ['skill', 'count']\n",
        "    return top_skills\n",
        "\n",
        "def save_output(df, output_path):\n",
        "    df.to_csv(output_path, index=False)\n",
        "    print(f\"✅ Saved: {output_path}\")\n",
        "\n",
        "def log_file(file_name):\n",
        "    with open(LOG_FILE, 'a') as f:\n",
        "        f.write(file_name + '\\n')\n",
        "\n",
        "def main():\n",
        "    next_file = get_next_file()\n",
        "    if not next_file:\n",
        "        print(\"🎉 All files processed.\")\n",
        "        return\n",
        "\n",
        "    print(f\"📥 Processing: {next_file}\")\n",
        "    try:\n",
        "        df = pd.read_csv(os.path.join(FEED_FOLDER, next_file))\n",
        "    except Exception as e:\n",
        "        print(f\"❌ Error reading {next_file}: {e}\")\n",
        "        return\n",
        "\n",
        "    if SKILLS_COLUMN not in df.columns:\n",
        "        print(f\"❌ Column '{SKILLS_COLUMN}' not found in data.\")\n",
        "        return\n",
        "\n",
        "    top_skills = extract_top_skills(df)\n",
        "\n",
        "    day_id = next_file.replace('.csv', '')        # e.g., 'day1'\n",
        "    day_num = int(day_id[3:])                     # e.g., 1\n",
        "    simulated_date = START_DATE + timedelta(days=day_num - 1)\n",
        "\n",
        "    top_skills['date'] = simulated_date.date()\n",
        "\n",
        "    output_file = os.path.join(OUTPUT_FOLDER, f'skills_{day_id}.csv')\n",
        "    save_output(top_skills, output_file)\n",
        "    log_file(next_file)\n",
        "    print(f\"📝 Logged: {next_file}\")\n",
        "\n",
        "# -------------------------\n",
        "# RUN LOOP FOR ALL 10 DAYS\n",
        "# -------------------------\n",
        "if __name__ == '__main__':\n",
        "    for _ in range(10):\n",
        "        main()\n"
      ]
    },
    {
      "cell_type": "code",
      "source": [
        "main()\n"
      ],
      "metadata": {
        "colab": {
          "base_uri": "https://localhost:8080/"
        },
        "id": "SkN0CkFY9oqD",
        "outputId": "4dbb1783-e627-4d11-a080-7b6df4460e60"
      },
      "execution_count": 8,
      "outputs": [
        {
          "output_type": "stream",
          "name": "stdout",
          "text": [
            "🎉 All files processed.\n"
          ]
        }
      ]
    },
    {
      "cell_type": "code",
      "source": [
        "import os\n",
        "\n",
        "feed_files = sorted(os.listdir('data/feed_simulated/'))\n",
        "print(\"📁 Feed Files Found:\", feed_files)\n"
      ],
      "metadata": {
        "colab": {
          "base_uri": "https://localhost:8080/"
        },
        "id": "6vBbNL4M9pcU",
        "outputId": "98b6c8c5-ffb1-43ee-8171-ad8e609c410a"
      },
      "execution_count": 9,
      "outputs": [
        {
          "output_type": "stream",
          "name": "stdout",
          "text": [
            "📁 Feed Files Found: ['day1.csv', 'day10.csv', 'day2.csv', 'day3.csv', 'day4.csv', 'day5.csv', 'day6.csv', 'day7.csv', 'day8.csv', 'day9.csv']\n"
          ]
        }
      ]
    }
  ]
}